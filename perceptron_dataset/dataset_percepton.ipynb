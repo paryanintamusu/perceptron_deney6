{
 "cells": [
  {
   "cell_type": "code",
   "execution_count": 7,
   "metadata": {},
   "outputs": [],
   "source": [
    "import matplotlib.pyplot as plt\n",
    "import numpy as np\n",
    "import pandas as pd "
   ]
  },
  {
   "cell_type": "code",
   "execution_count": 12,
   "metadata": {},
   "outputs": [
    {
     "data": {
      "text/html": [
       "<div>\n",
       "<style scoped>\n",
       "    .dataframe tbody tr th:only-of-type {\n",
       "        vertical-align: middle;\n",
       "    }\n",
       "\n",
       "    .dataframe tbody tr th {\n",
       "        vertical-align: top;\n",
       "    }\n",
       "\n",
       "    .dataframe thead th {\n",
       "        text-align: right;\n",
       "    }\n",
       "</style>\n",
       "<table border=\"1\" class=\"dataframe\">\n",
       "  <thead>\n",
       "    <tr style=\"text-align: right;\">\n",
       "      <th></th>\n",
       "      <th>ozellik-1</th>\n",
       "      <th>ozellik-2</th>\n",
       "      <th>ozellik-3</th>\n",
       "      <th>ozellik-4</th>\n",
       "      <th>ozellik-5</th>\n",
       "      <th>ozellik-6</th>\n",
       "      <th>ozellik-7</th>\n",
       "      <th>cikis</th>\n",
       "    </tr>\n",
       "  </thead>\n",
       "  <tbody>\n",
       "    <tr>\n",
       "      <th>0</th>\n",
       "      <td>-1.408009</td>\n",
       "      <td>-7.665645</td>\n",
       "      <td>-7.238233</td>\n",
       "      <td>8.270052</td>\n",
       "      <td>2.316332</td>\n",
       "      <td>7.780697</td>\n",
       "      <td>8.746141</td>\n",
       "      <td>1</td>\n",
       "    </tr>\n",
       "    <tr>\n",
       "      <th>1</th>\n",
       "      <td>-2.360724</td>\n",
       "      <td>9.518347</td>\n",
       "      <td>1.848361</td>\n",
       "      <td>9.621156</td>\n",
       "      <td>-8.370089</td>\n",
       "      <td>1.615725</td>\n",
       "      <td>7.208179</td>\n",
       "      <td>0</td>\n",
       "    </tr>\n",
       "    <tr>\n",
       "      <th>2</th>\n",
       "      <td>-3.676865</td>\n",
       "      <td>9.766197</td>\n",
       "      <td>0.803233</td>\n",
       "      <td>7.475693</td>\n",
       "      <td>-8.519747</td>\n",
       "      <td>4.371836</td>\n",
       "      <td>5.475343</td>\n",
       "      <td>0</td>\n",
       "    </tr>\n",
       "    <tr>\n",
       "      <th>3</th>\n",
       "      <td>-3.536012</td>\n",
       "      <td>7.943393</td>\n",
       "      <td>2.466309</td>\n",
       "      <td>7.327269</td>\n",
       "      <td>-8.002648</td>\n",
       "      <td>2.893346</td>\n",
       "      <td>6.109701</td>\n",
       "      <td>0</td>\n",
       "    </tr>\n",
       "    <tr>\n",
       "      <th>4</th>\n",
       "      <td>-2.067875</td>\n",
       "      <td>-7.972082</td>\n",
       "      <td>-6.502296</td>\n",
       "      <td>7.715615</td>\n",
       "      <td>2.501575</td>\n",
       "      <td>8.161800</td>\n",
       "      <td>9.470502</td>\n",
       "      <td>1</td>\n",
       "    </tr>\n",
       "    <tr>\n",
       "      <th>...</th>\n",
       "      <td>...</td>\n",
       "      <td>...</td>\n",
       "      <td>...</td>\n",
       "      <td>...</td>\n",
       "      <td>...</td>\n",
       "      <td>...</td>\n",
       "      <td>...</td>\n",
       "      <td>...</td>\n",
       "    </tr>\n",
       "    <tr>\n",
       "      <th>137</th>\n",
       "      <td>-4.282893</td>\n",
       "      <td>9.610162</td>\n",
       "      <td>1.120459</td>\n",
       "      <td>7.917082</td>\n",
       "      <td>-6.939992</td>\n",
       "      <td>6.120812</td>\n",
       "      <td>4.270275</td>\n",
       "      <td>0</td>\n",
       "    </tr>\n",
       "    <tr>\n",
       "      <th>138</th>\n",
       "      <td>-0.498616</td>\n",
       "      <td>-8.679843</td>\n",
       "      <td>-10.801957</td>\n",
       "      <td>8.672719</td>\n",
       "      <td>3.747385</td>\n",
       "      <td>7.374688</td>\n",
       "      <td>11.400781</td>\n",
       "      <td>1</td>\n",
       "    </tr>\n",
       "    <tr>\n",
       "      <th>139</th>\n",
       "      <td>-2.500176</td>\n",
       "      <td>-7.915534</td>\n",
       "      <td>-6.377663</td>\n",
       "      <td>7.059155</td>\n",
       "      <td>3.537774</td>\n",
       "      <td>6.958498</td>\n",
       "      <td>8.028976</td>\n",
       "      <td>1</td>\n",
       "    </tr>\n",
       "    <tr>\n",
       "      <th>140</th>\n",
       "      <td>-2.939196</td>\n",
       "      <td>10.093757</td>\n",
       "      <td>0.279791</td>\n",
       "      <td>9.513667</td>\n",
       "      <td>-8.557074</td>\n",
       "      <td>2.188721</td>\n",
       "      <td>6.379760</td>\n",
       "      <td>0</td>\n",
       "    </tr>\n",
       "    <tr>\n",
       "      <th>141</th>\n",
       "      <td>-3.262516</td>\n",
       "      <td>-7.744205</td>\n",
       "      <td>-7.214319</td>\n",
       "      <td>8.790518</td>\n",
       "      <td>3.638785</td>\n",
       "      <td>7.315732</td>\n",
       "      <td>8.117474</td>\n",
       "      <td>1</td>\n",
       "    </tr>\n",
       "  </tbody>\n",
       "</table>\n",
       "<p>142 rows × 8 columns</p>\n",
       "</div>"
      ],
      "text/plain": [
       "     ozellik-1  ozellik-2  ozellik-3  ozellik-4  ozellik-5  ozellik-6  \\\n",
       "0    -1.408009  -7.665645  -7.238233   8.270052   2.316332   7.780697   \n",
       "1    -2.360724   9.518347   1.848361   9.621156  -8.370089   1.615725   \n",
       "2    -3.676865   9.766197   0.803233   7.475693  -8.519747   4.371836   \n",
       "3    -3.536012   7.943393   2.466309   7.327269  -8.002648   2.893346   \n",
       "4    -2.067875  -7.972082  -6.502296   7.715615   2.501575   8.161800   \n",
       "..         ...        ...        ...        ...        ...        ...   \n",
       "137  -4.282893   9.610162   1.120459   7.917082  -6.939992   6.120812   \n",
       "138  -0.498616  -8.679843 -10.801957   8.672719   3.747385   7.374688   \n",
       "139  -2.500176  -7.915534  -6.377663   7.059155   3.537774   6.958498   \n",
       "140  -2.939196  10.093757   0.279791   9.513667  -8.557074   2.188721   \n",
       "141  -3.262516  -7.744205  -7.214319   8.790518   3.638785   7.315732   \n",
       "\n",
       "     ozellik-7  cikis  \n",
       "0     8.746141      1  \n",
       "1     7.208179      0  \n",
       "2     5.475343      0  \n",
       "3     6.109701      0  \n",
       "4     9.470502      1  \n",
       "..         ...    ...  \n",
       "137   4.270275      0  \n",
       "138  11.400781      1  \n",
       "139   8.028976      1  \n",
       "140   6.379760      0  \n",
       "141   8.117474      1  \n",
       "\n",
       "[142 rows x 8 columns]"
      ]
     },
     "execution_count": 12,
     "metadata": {},
     "output_type": "execute_result"
    }
   ],
   "source": [
    "col_list = [\"ozellik-1\",\"ozellik-2\",\"ozellik-3\",\"ozellik-4\",\"ozellik-5\",\"ozellik-6\",\"ozellik-7\",\"cikis\"]\n",
    "df = pd.read_csv('https://raw.githubusercontent.com/irhallac/SisLab/main/hw_data/data_789.csv', usecols=col_list)\n",
    "df"
   ]
  },
  {
   "cell_type": "code",
   "execution_count": 291,
   "metadata": {},
   "outputs": [],
   "source": [
    "cikis = df.iloc[:142, 7].values\n",
    "giris = df.iloc[0:142, [0,4,5,6]].values"
   ]
  },
  {
   "cell_type": "code",
   "execution_count": 292,
   "metadata": {},
   "outputs": [
    {
     "name": "stderr",
     "output_type": "stream",
     "text": [
      "No artists with labels found to put in legend.  Note that artists whose label start with an underscore are ignored when legend() is called with no argument.\n"
     ]
    },
    {
     "data": {
      "image/png": "[encoded data removed]",
      "text/plain": [
       "<Figure size 432x288 with 1 Axes>"
      ]
     },
     "metadata": {
      "needs_background": "light"
     },
     "output_type": "display_data"
    }
   ],
   "source": [
    "plt.title('2D görünüm', fontsize=16)\n",
    "\n",
    "plt.scatter(giris[:142, 0], giris[:142, 1], c=cikis)\n",
    "plt.xlabel('özellik1')\n",
    "plt.ylabel('özellik2')\n",
    "plt.legend(loc='upper left')\n",
    "\n",
    "plt.show()"
   ]
  },
  {
   "cell_type": "code",
   "execution_count": 294,
   "metadata": {},
   "outputs": [],
   "source": [
    "class Perceptron(object): \n",
    "    def __init__(self, ogrenme_orani=0.1, iter_sayisi=10):\n",
    "        self.ogrenme_orani = ogrenme_orani\n",
    "        self.iter_sayisi = iter_sayisi\n",
    "\n",
    "    def ogren(self, X, y):\n",
    "        #self.w = np.zeros(1 + X.shape[1])\n",
    "        self.w = np.random.rand((1 + X.shape[1])) * 2\n",
    "        self.hatalar = []\n",
    "        for _ in range(self.iter_sayisi):\n",
    "            hata = 0\n",
    "            for xi, hedef in zip(X, y):\n",
    "                degisim = self.ogrenme_orani * (hedef - self.tahmin(xi))\n",
    "                self.w[1:] += degisim * xi\n",
    "                self.w[0] += degisim\n",
    "                hata += int(degisim != 0.0)\n",
    "            self.hatalar.append(hata)\n",
    "        return self\n",
    "\n",
    "    def net_input(self, X):\n",
    "        return np.dot(X, self.w[1:]) + self.w[0]\n",
    "\n",
    "    def tahmin(self, x):\n",
    "        return np.where(self.net_input(x) >= 0.0, 1, -1)"
   ]
  },
  {
   "cell_type": "code",
   "execution_count": 295,
   "metadata": {},
   "outputs": [
    {
     "data": {
      "text/plain": [
       "<__main__.Perceptron at 0x111421df0>"
      ]
     },
     "execution_count": 295,
     "metadata": {},
     "output_type": "execute_result"
    }
   ],
   "source": [
    "siniflandirici = Perceptron(ogrenme_orani=0.09, iter_sayisi=20)\n",
    "siniflandirici.ogren(giris, cikis)"
   ]
  },
  {
   "cell_type": "code",
   "execution_count": 296,
   "metadata": {},
   "outputs": [
    {
     "data": {
      "text/plain": [
       "array([ 1.48946599, -0.60917423, -0.06467116,  0.91174579,  0.03950406])"
      ]
     },
     "execution_count": 296,
     "metadata": {},
     "output_type": "execute_result"
    }
   ],
   "source": [
    "siniflandirici.w"
   ]
  },
  {
   "cell_type": "code",
   "execution_count": 297,
   "metadata": {},
   "outputs": [
    {
     "data": {
      "text/plain": [
       "[71, 72, 72, 72, 72, 71, 72, 72, 72, 71]"
      ]
     },
     "execution_count": 297,
     "metadata": {},
     "output_type": "execute_result"
    }
   ],
   "source": [
    "siniflandirici.hatalar\n"
   ]
  },
  {
   "cell_type": "code",
   "execution_count": 298,
   "metadata": {},
   "outputs": [
    {
     "data": {
      "image/png": "[encoded data removed]",
      "text/plain": [
       "<Figure size 432x288 with 1 Axes>"
      ]
     },
     "metadata": {
      "needs_background": "light"
     },
     "output_type": "display_data"
    }
   ],
   "source": [
    "plt.plot(range(1, len(siniflandirici.hatalar) + 1), siniflandirici.hatalar)\n",
    "plt.xlabel('Deneme')\n",
    "plt.ylabel('Hatalı tahmin sayısı')\n",
    "plt.show()"
   ]
  }
 ],
 "metadata": {
  "interpreter": {
   "hash": "aee8b7b246df8f9039afb4144a1f6fd8d2ca17a180786b69acc140d282b71a49"
  },
  "kernelspec": {
   "display_name": "Python 3.9.9 64-bit",
   "language": "python",
   "name": "python3"
  },
  "language_info": {
   "codemirror_mode": {
    "name": "ipython",
    "version": 3
   },
   "file_extension": ".py",
   "mimetype": "text/x-python",
   "name": "python",
   "nbconvert_exporter": "python",
   "pygments_lexer": "ipython3",
   "version": "3.9.9"
  },
  "orig_nbformat": 4
 },
 "nbformat": 4,
 "nbformat_minor": 2
}
